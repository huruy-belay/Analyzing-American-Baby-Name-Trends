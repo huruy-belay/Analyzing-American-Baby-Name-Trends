{
 "cells": [
  {
   "cell_type": "markdown",
   "id": "8949370b",
   "metadata": {},
   "source": [
    "## Analyzing American Baby Name Trends"
   ]
  },
  {
   "cell_type": "markdown",
   "id": "7742806c",
   "metadata": {},
   "source": [
    "#### Create table and importingt the csv file"
   ]
  },
  {
   "cell_type": "code",
   "execution_count": null,
   "id": "afd0ee76",
   "metadata": {},
   "outputs": [],
   "source": [
    "DROP TABLE baby_names;\n",
    "\n",
    "CREATE TABLE baby_names (\n",
    "  year INT,\n",
    "  first_name VARCHAR(64),\n",
    "  sex VARCHAR(64),\n",
    "  num INT\n",
    ");\n",
    "\\copy baby_names FROM 'usa_baby_names.csv' DELIMITER ',' CSV HEADER;"
   ]
  },
  {
   "cell_type": "markdown",
   "id": "34a9f3e7",
   "metadata": {},
   "source": [
    "#### Classic American names"
   ]
  },
  {
   "cell_type": "code",
   "execution_count": null,
   "id": "4f8b9992",
   "metadata": {},
   "outputs": [],
   "source": [
    "-- Select first names and the total babies with that first_name\n",
    "SELECT first_name, sum(num)\n",
    "From baby_names\n",
    "\n",
    "-- Group by first_name and filter for those names that appear in all 101 years\n",
    "GROUP BY first_name\n",
    "HAVING count(year) = 101\n",
    "\n",
    "-- Order by the total number of babies with that first_name, descending\n",
    "ORDER BY sum(num) desc;"
   ]
  },
  {
   "cell_type": "markdown",
   "id": "4f65f360",
   "metadata": {},
   "source": [
    "#### Timeless or trendy?"
   ]
  },
  {
   "cell_type": "code",
   "execution_count": null,
   "id": "4fedbda3",
   "metadata": {},
   "outputs": [],
   "source": [
    "-- Classify first names as 'Classic', 'Semi-classic', 'Semi-trendy', or 'Trendy'\n",
    "-- Alias this column as popularity_type\n",
    "SELECT first_name, SUM(num),\n",
    "    CASE WHEN COUNT(year) > 80 THEN 'Classic'\n",
    "        WHEN COUNT(year) > 50 THEN 'Semi-classic'\n",
    "        WHEN COUNT(year) > 20 THEN 'Semi-trendy'\n",
    "        ELSE 'Trendy' END AS popularity_type\n",
    "FROM baby_names\n",
    "\n",
    "-- Select first_name, the sum of babies who have ever had that name, and popularity_type\n",
    "GROUP BY first_name\n",
    "\n",
    "-- Order the results alphabetically by first_name\n",
    "ORDER BY first_name;"
   ]
  },
  {
   "cell_type": "markdown",
   "id": "dbf3cf2b",
   "metadata": {},
   "source": [
    "#### Top-ranked female names since 1920"
   ]
  },
  {
   "cell_type": "code",
   "execution_count": null,
   "id": "a6c95b37",
   "metadata": {},
   "outputs": [],
   "source": [
    "-- RANK names by the sum of babies who have ever had that name (descending), aliasing as name_rank\n",
    "-- Select name_rank, first_name, and the sum of babies who have ever had that name\n",
    "SELECT\n",
    "    RANK() OVER(ORDER BY SUM(num) DESC) AS name_rank,\n",
    "    first_name, SUM(num)\n",
    "FROM baby_names\n",
    "\n",
    "-- Filter the data for results where sex equals 'F'\n",
    "WHERE sex = 'F'\n",
    "GROUP BY first_name\n",
    "\n",
    "-- Limit to ten results\n",
    "LIMIT 10;"
   ]
  },
  {
   "cell_type": "markdown",
   "id": "e5117e05",
   "metadata": {},
   "source": [
    "#### Picking a baby name"
   ]
  },
  {
   "cell_type": "code",
   "execution_count": null,
   "id": "fc68383b",
   "metadata": {},
   "outputs": [],
   "source": [
    "-- Select only the first_name column\n",
    "SELECT first_name\n",
    "FROM baby_names\n",
    "\n",
    "-- Filter for results where sex is 'F', year is greater than 2015, and first_name ends in 'a'\n",
    "WHERE sex = 'F' AND year > 2015\n",
    "    AND first_name LIKE '%a'\n",
    "    \n",
    "-- Group by first_name and order by the total number of babies given that first_name\n",
    "GROUP BY first_name\n",
    "ORDER BY SUM(num) DESC;"
   ]
  },
  {
   "cell_type": "markdown",
   "id": "1e6d99ff",
   "metadata": {},
   "source": [
    "#### The Olivia expansion"
   ]
  },
  {
   "cell_type": "code",
   "execution_count": null,
   "id": "2f89a23a",
   "metadata": {},
   "outputs": [],
   "source": [
    "-- Select year, first_name, num of Olivias in that year, and cumulative_olivias\n",
    "-- Sum the cumulative babies who have been named Olivia up to that year; alias as cumulative_olivias\n",
    "SELECT year, first_name, num,\n",
    "    SUM(num) OVER (ORDER BY year) AS cumulative_olivias\n",
    "FROM baby_names\n",
    "\n",
    "-- Filter so that only data for the name Olivia is returned.\n",
    "WHERE first_name = 'Olivia'\n",
    "\n",
    "-- Order by year from the earliest year to most recent\n",
    "ORDER BY year;\n"
   ]
  },
  {
   "cell_type": "markdown",
   "id": "490c4426",
   "metadata": {},
   "source": [
    "#### Many males with the same name"
   ]
  },
  {
   "cell_type": "code",
   "execution_count": null,
   "id": "44cda340",
   "metadata": {},
   "outputs": [],
   "source": [
    "-- Select year and maximum number of babies given any one male name in that year, aliased as max_num\n",
    "SELECT year, MAX(num) AS max_num\n",
    "FROM baby_names\n",
    "\n",
    "-- Filter the data to include only results where sex equals 'M'\n",
    "WHERE sex = 'M'\n",
    "GROUP BY year;"
   ]
  },
  {
   "cell_type": "markdown",
   "id": "4078861b",
   "metadata": {},
   "source": [
    "#### Top male names over the years"
   ]
  },
  {
   "cell_type": "code",
   "execution_count": null,
   "id": "008fea76",
   "metadata": {},
   "outputs": [],
   "source": [
    "-- Select year, first_name given to the largest number of male babies, and num of babies given that name\n",
    "\n",
    "SELECT b.year, b.first_name, b.num\n",
    "FROM baby_names AS b\n",
    "\n",
    "-- Join baby_names to the code in the last task as a subquery\n",
    "\n",
    "INNER JOIN (\n",
    "    SELECT year, MAX(num) as max_num\n",
    "    FROM baby_names\n",
    "    WHERE sex = 'M'\n",
    "    GROUP BY year) AS subquery \n",
    "ON subquery.year = b.year \n",
    "    AND subquery.max_num = b.num\n",
    "    \n",
    "-- Order results by year descending\n",
    "ORDER BY year DESC;"
   ]
  },
  {
   "cell_type": "markdown",
   "id": "47d4dec5",
   "metadata": {},
   "source": [
    "#### The most years at number one"
   ]
  },
  {
   "cell_type": "code",
   "execution_count": null,
   "id": "8c3999e4",
   "metadata": {},
   "outputs": [],
   "source": [
    "-- Select first_name and a count of years it was the top name in the last task; alias as count_top_name\n",
    "-- Use the code from the previous task as a common table expression\n",
    "\n",
    "WITH top_male_names AS (\n",
    "    SELECT b.year, b.first_name, b.num\n",
    "    FROM baby_names AS b\n",
    "    INNER JOIN (\n",
    "        SELECT year, MAX(num) num\n",
    "        FROM baby_names\n",
    "        WHERE sex = 'M'\n",
    "        GROUP BY year) AS subquery \n",
    "    ON subquery.year = b.year \n",
    "        AND subquery.num = b.num\n",
    "    ORDER BY YEAR DESC\n",
    "    )\n",
    "SELECT first_name, COUNT(first_name) as count_top_name\n",
    "FROM top_male_names\n",
    "\n",
    "-- Group by first_name and order by count_top_name descending\n",
    "GROUP BY first_name\n",
    "ORDER BY COUNT(first_name) DESC;"
   ]
  },
  {
   "cell_type": "code",
   "execution_count": null,
   "id": "160d5fb4",
   "metadata": {},
   "outputs": [],
   "source": []
  },
  {
   "cell_type": "code",
   "execution_count": null,
   "id": "c63661ee",
   "metadata": {},
   "outputs": [],
   "source": []
  }
 ],
 "metadata": {
  "kernelspec": {
   "display_name": "Python 3 (ipykernel)",
   "language": "python",
   "name": "python3"
  },
  "language_info": {
   "codemirror_mode": {
    "name": "ipython",
    "version": 3
   },
   "file_extension": ".py",
   "mimetype": "text/x-python",
   "name": "python",
   "nbconvert_exporter": "python",
   "pygments_lexer": "ipython3",
   "version": "3.9.7"
  }
 },
 "nbformat": 4,
 "nbformat_minor": 5
}
